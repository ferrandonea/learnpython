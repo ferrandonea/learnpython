{
 "metadata": {
  "name": "",
  "signature": "sha256:60abe14733f9fe1aa93d3988db71448d236032e1a64ccfe420f0d2c49dca6b9e"
 },
 "nbformat": 3,
 "nbformat_minor": 0,
 "worksheets": [
  {
   "cells": [
    {
     "cell_type": "markdown",
     "metadata": {},
     "source": [
      "vamos a ver como hacemos un grafico de waterfall"
     ]
    },
    {
     "cell_type": "code",
     "collapsed": false,
     "input": [
      "#declaramos los dataframes y pandas y todo lo demas necesario\n",
      "import pandas as pd\n",
      "import numpy as np\n",
      "import matplotlib.pyplot as plt\n",
      "Utilidad = pd.DataFrame(data = {'Argentina':[3,5], 'Chile':[1,4], 'Espa\u00f1a':[3,1], 'Bolivia':[6,1], 'Uruguay':[2,5]}, index = [2004,2005])\n"
     ],
     "language": "python",
     "metadata": {},
     "outputs": [],
     "prompt_number": 2
    },
    {
     "cell_type": "code",
     "collapsed": false,
     "input": [
      "Utilidad"
     ],
     "language": "python",
     "metadata": {},
     "outputs": [
      {
       "html": [
        "<div style=\"max-height:1000px;max-width:1500px;overflow:auto;\">\n",
        "<table border=\"1\" class=\"dataframe\">\n",
        "  <thead>\n",
        "    <tr style=\"text-align: right;\">\n",
        "      <th></th>\n",
        "      <th>Argentina</th>\n",
        "      <th>Bolivia</th>\n",
        "      <th>Chile</th>\n",
        "      <th>Espa\u00f1a</th>\n",
        "      <th>Uruguay</th>\n",
        "    </tr>\n",
        "  </thead>\n",
        "  <tbody>\n",
        "    <tr>\n",
        "      <th>2004</th>\n",
        "      <td> 3</td>\n",
        "      <td> 6</td>\n",
        "      <td> 1</td>\n",
        "      <td> 3</td>\n",
        "      <td> 2</td>\n",
        "    </tr>\n",
        "    <tr>\n",
        "      <th>2005</th>\n",
        "      <td> 5</td>\n",
        "      <td> 1</td>\n",
        "      <td> 4</td>\n",
        "      <td> 1</td>\n",
        "      <td> 5</td>\n",
        "    </tr>\n",
        "  </tbody>\n",
        "</table>\n",
        "</div>"
       ],
       "metadata": {},
       "output_type": "pyout",
       "prompt_number": 3,
       "text": [
        "      Argentina  Bolivia  Chile  Espa\u00f1a  Uruguay\n",
        "2004          3        6      1       3        2\n",
        "2005          5        1      4       1        5"
       ]
      }
     ],
     "prompt_number": 3
    },
    {
     "cell_type": "code",
     "collapsed": false,
     "input": [
      "Utilidad.sum(axis=1)"
     ],
     "language": "python",
     "metadata": {},
     "outputs": [
      {
       "metadata": {},
       "output_type": "pyout",
       "prompt_number": 4,
       "text": [
        "2004    15\n",
        "2005    16\n",
        "dtype: int64"
       ]
      }
     ],
     "prompt_number": 4
    },
    {
     "cell_type": "code",
     "collapsed": false,
     "input": [
      "Diferencia = pd.DataFrame( columns = Utilidad.columns)\n",
      "Utilidad.loc['resta']=Utilidad.loc[2005]-Utilidad.loc[2004]\n"
     ],
     "language": "python",
     "metadata": {},
     "outputs": [],
     "prompt_number": 5
    },
    {
     "cell_type": "code",
     "collapsed": false,
     "input": [
      "ordenado =['Argentina', 'Chile','Espa\u00f1a','Bolivia','Uruguay']\n",
      "Utilidad = Utilidad.reindex(columns = ordenado) #esto es porque el ejemplo que hice en un cuaderno viene en ese orden, no es relevante"
     ],
     "language": "python",
     "metadata": {},
     "outputs": [],
     "prompt_number": 6
    },
    {
     "cell_type": "code",
     "collapsed": false,
     "input": [
      "Utilidad.loc['barra iniciales']=0\n",
      "Utilidad['Fin']=0\n",
      "Utilidad['Inicio']=0\n",
      "Utilidad['Inicio'].loc['barra iniciales']=Utilidad.ix[0].sum(axis=0)\n",
      "Utilidad['Fin'].loc['barra iniciales']=Utilidad.ix[1].sum(axis=0)\n"
     ],
     "language": "python",
     "metadata": {},
     "outputs": [],
     "prompt_number": 7
    },
    {
     "cell_type": "code",
     "collapsed": false,
     "input": [
      "ordenado =['Inicio', 'Argentina', 'Chile','Espa\u00f1a','Bolivia','Uruguay','Fin']\n",
      "Utilidad = Utilidad.reindex(columns = ordenado) #esto es porque el ejemplo que hice en un cuaderno viene en ese orden, no es relevante\n",
      "Utilidad\n"
     ],
     "language": "python",
     "metadata": {},
     "outputs": [
      {
       "html": [
        "<div style=\"max-height:1000px;max-width:1500px;overflow:auto;\">\n",
        "<table border=\"1\" class=\"dataframe\">\n",
        "  <thead>\n",
        "    <tr style=\"text-align: right;\">\n",
        "      <th></th>\n",
        "      <th>Inicio</th>\n",
        "      <th>Argentina</th>\n",
        "      <th>Chile</th>\n",
        "      <th>Espa\u00f1a</th>\n",
        "      <th>Bolivia</th>\n",
        "      <th>Uruguay</th>\n",
        "      <th>Fin</th>\n",
        "    </tr>\n",
        "  </thead>\n",
        "  <tbody>\n",
        "    <tr>\n",
        "      <th>2004</th>\n",
        "      <td>  0</td>\n",
        "      <td> 3</td>\n",
        "      <td> 1</td>\n",
        "      <td> 3</td>\n",
        "      <td> 6</td>\n",
        "      <td> 2</td>\n",
        "      <td>  0</td>\n",
        "    </tr>\n",
        "    <tr>\n",
        "      <th>2005</th>\n",
        "      <td>  0</td>\n",
        "      <td> 5</td>\n",
        "      <td> 4</td>\n",
        "      <td> 1</td>\n",
        "      <td> 1</td>\n",
        "      <td> 5</td>\n",
        "      <td>  0</td>\n",
        "    </tr>\n",
        "    <tr>\n",
        "      <th>resta</th>\n",
        "      <td>  0</td>\n",
        "      <td> 2</td>\n",
        "      <td> 3</td>\n",
        "      <td>-2</td>\n",
        "      <td>-5</td>\n",
        "      <td> 3</td>\n",
        "      <td>  0</td>\n",
        "    </tr>\n",
        "    <tr>\n",
        "      <th>barra iniciales</th>\n",
        "      <td> 15</td>\n",
        "      <td> 0</td>\n",
        "      <td> 0</td>\n",
        "      <td> 0</td>\n",
        "      <td> 0</td>\n",
        "      <td> 0</td>\n",
        "      <td> 16</td>\n",
        "    </tr>\n",
        "  </tbody>\n",
        "</table>\n",
        "</div>"
       ],
       "metadata": {},
       "output_type": "pyout",
       "prompt_number": 8,
       "text": [
        "                 Inicio  Argentina  Chile  Espa\u00f1a  Bolivia  Uruguay  Fin\n",
        "2004                  0          3      1       3        6        2    0\n",
        "2005                  0          5      4       1        1        5    0\n",
        "resta                 0          2      3      -2       -5        3    0\n",
        "barra iniciales      15          0      0       0        0        0   16"
       ]
      }
     ],
     "prompt_number": 8
    },
    {
     "cell_type": "code",
     "collapsed": false,
     "input": [
      "%timeit np.minimum(Utilidad.ix['resta'], 0)  # negative"
     ],
     "language": "python",
     "metadata": {},
     "outputs": [
      {
       "output_type": "stream",
       "stream": "stdout",
       "text": [
        "10000 loops, best of 3: 117 \u00b5s per loop\n"
       ]
      }
     ],
     "prompt_number": 9
    },
    {
     "cell_type": "code",
     "collapsed": false,
     "input": [
      "Utilidad.loc['positivo'] = np.where(Utilidad.loc['resta'] > 0, Utilidad.ix['resta'], 0)\n",
      "Utilidad.loc['negativo'] = np.where(Utilidad.loc['resta'] < 0, Utilidad.ix['resta'], 0)"
     ],
     "language": "python",
     "metadata": {},
     "outputs": [],
     "prompt_number": 10
    },
    {
     "cell_type": "code",
     "collapsed": false,
     "input": [
      "Utilidad"
     ],
     "language": "python",
     "metadata": {},
     "outputs": [
      {
       "html": [
        "<div style=\"max-height:1000px;max-width:1500px;overflow:auto;\">\n",
        "<table border=\"1\" class=\"dataframe\">\n",
        "  <thead>\n",
        "    <tr style=\"text-align: right;\">\n",
        "      <th></th>\n",
        "      <th>Inicio</th>\n",
        "      <th>Argentina</th>\n",
        "      <th>Chile</th>\n",
        "      <th>Espa\u00f1a</th>\n",
        "      <th>Bolivia</th>\n",
        "      <th>Uruguay</th>\n",
        "      <th>Fin</th>\n",
        "    </tr>\n",
        "  </thead>\n",
        "  <tbody>\n",
        "    <tr>\n",
        "      <th>2004</th>\n",
        "      <td>  0</td>\n",
        "      <td> 3</td>\n",
        "      <td> 1</td>\n",
        "      <td> 3</td>\n",
        "      <td> 6</td>\n",
        "      <td> 2</td>\n",
        "      <td>  0</td>\n",
        "    </tr>\n",
        "    <tr>\n",
        "      <th>2005</th>\n",
        "      <td>  0</td>\n",
        "      <td> 5</td>\n",
        "      <td> 4</td>\n",
        "      <td> 1</td>\n",
        "      <td> 1</td>\n",
        "      <td> 5</td>\n",
        "      <td>  0</td>\n",
        "    </tr>\n",
        "    <tr>\n",
        "      <th>resta</th>\n",
        "      <td>  0</td>\n",
        "      <td> 2</td>\n",
        "      <td> 3</td>\n",
        "      <td>-2</td>\n",
        "      <td>-5</td>\n",
        "      <td> 3</td>\n",
        "      <td>  0</td>\n",
        "    </tr>\n",
        "    <tr>\n",
        "      <th>barra iniciales</th>\n",
        "      <td> 15</td>\n",
        "      <td> 0</td>\n",
        "      <td> 0</td>\n",
        "      <td> 0</td>\n",
        "      <td> 0</td>\n",
        "      <td> 0</td>\n",
        "      <td> 16</td>\n",
        "    </tr>\n",
        "    <tr>\n",
        "      <th>positivo</th>\n",
        "      <td>  0</td>\n",
        "      <td> 2</td>\n",
        "      <td> 3</td>\n",
        "      <td> 0</td>\n",
        "      <td> 0</td>\n",
        "      <td> 3</td>\n",
        "      <td>  0</td>\n",
        "    </tr>\n",
        "    <tr>\n",
        "      <th>negativo</th>\n",
        "      <td>  0</td>\n",
        "      <td> 0</td>\n",
        "      <td> 0</td>\n",
        "      <td>-2</td>\n",
        "      <td>-5</td>\n",
        "      <td> 0</td>\n",
        "      <td>  0</td>\n",
        "    </tr>\n",
        "  </tbody>\n",
        "</table>\n",
        "</div>"
       ],
       "metadata": {},
       "output_type": "pyout",
       "prompt_number": 11,
       "text": [
        "                 Inicio  Argentina  Chile  Espa\u00f1a  Bolivia  Uruguay  Fin\n",
        "2004                  0          3      1       3        6        2    0\n",
        "2005                  0          5      4       1        1        5    0\n",
        "resta                 0          2      3      -2       -5        3    0\n",
        "barra iniciales      15          0      0       0        0        0   16\n",
        "positivo              0          2      3       0        0        3    0\n",
        "negativo              0          0      0      -2       -5        0    0"
       ]
      }
     ],
     "prompt_number": 11
    },
    {
     "cell_type": "code",
     "collapsed": false,
     "input": [
      "Utilidad.loc['suma'] = np.cumsum(Utilidad.loc['barra iniciales'].shift(1)+Utilidad.loc['positivo'].shift(1)+Utilidad.loc['negativo'].shift(1))"
     ],
     "language": "python",
     "metadata": {},
     "outputs": [],
     "prompt_number": 12
    },
    {
     "cell_type": "code",
     "collapsed": false,
     "input": [
      "Utilidad = Utilidad.fillna(0)"
     ],
     "language": "python",
     "metadata": {},
     "outputs": [],
     "prompt_number": 13
    },
    {
     "cell_type": "code",
     "collapsed": false,
     "input": [
      "Utilidad.loc['base']=np.where(Utilidad.loc['resta'] > 0, Utilidad.loc['suma'],Utilidad.loc['suma']+Utilidad.ix['resta'])"
     ],
     "language": "python",
     "metadata": {},
     "outputs": [],
     "prompt_number": 14
    },
    {
     "cell_type": "code",
     "collapsed": false,
     "input": [
      "Utilidad.loc['negativo'] = np.where(Utilidad.loc['resta'] < 0, -Utilidad.ix['resta'], 0)"
     ],
     "language": "python",
     "metadata": {},
     "outputs": [],
     "prompt_number": 15
    },
    {
     "cell_type": "code",
     "collapsed": false,
     "input": [
      "Utilidad"
     ],
     "language": "python",
     "metadata": {},
     "outputs": [
      {
       "html": [
        "<div style=\"max-height:1000px;max-width:1500px;overflow:auto;\">\n",
        "<table border=\"1\" class=\"dataframe\">\n",
        "  <thead>\n",
        "    <tr style=\"text-align: right;\">\n",
        "      <th></th>\n",
        "      <th>Inicio</th>\n",
        "      <th>Argentina</th>\n",
        "      <th>Chile</th>\n",
        "      <th>Espa\u00f1a</th>\n",
        "      <th>Bolivia</th>\n",
        "      <th>Uruguay</th>\n",
        "      <th>Fin</th>\n",
        "    </tr>\n",
        "  </thead>\n",
        "  <tbody>\n",
        "    <tr>\n",
        "      <th>2004</th>\n",
        "      <td>  0</td>\n",
        "      <td>  3</td>\n",
        "      <td>  1</td>\n",
        "      <td>  3</td>\n",
        "      <td>  6</td>\n",
        "      <td>  2</td>\n",
        "      <td>  0</td>\n",
        "    </tr>\n",
        "    <tr>\n",
        "      <th>2005</th>\n",
        "      <td>  0</td>\n",
        "      <td>  5</td>\n",
        "      <td>  4</td>\n",
        "      <td>  1</td>\n",
        "      <td>  1</td>\n",
        "      <td>  5</td>\n",
        "      <td>  0</td>\n",
        "    </tr>\n",
        "    <tr>\n",
        "      <th>resta</th>\n",
        "      <td>  0</td>\n",
        "      <td>  2</td>\n",
        "      <td>  3</td>\n",
        "      <td> -2</td>\n",
        "      <td> -5</td>\n",
        "      <td>  3</td>\n",
        "      <td>  0</td>\n",
        "    </tr>\n",
        "    <tr>\n",
        "      <th>barra iniciales</th>\n",
        "      <td> 15</td>\n",
        "      <td>  0</td>\n",
        "      <td>  0</td>\n",
        "      <td>  0</td>\n",
        "      <td>  0</td>\n",
        "      <td>  0</td>\n",
        "      <td> 16</td>\n",
        "    </tr>\n",
        "    <tr>\n",
        "      <th>positivo</th>\n",
        "      <td>  0</td>\n",
        "      <td>  2</td>\n",
        "      <td>  3</td>\n",
        "      <td>  0</td>\n",
        "      <td>  0</td>\n",
        "      <td>  3</td>\n",
        "      <td>  0</td>\n",
        "    </tr>\n",
        "    <tr>\n",
        "      <th>negativo</th>\n",
        "      <td>  0</td>\n",
        "      <td>  0</td>\n",
        "      <td>  0</td>\n",
        "      <td>  2</td>\n",
        "      <td>  5</td>\n",
        "      <td>  0</td>\n",
        "      <td>  0</td>\n",
        "    </tr>\n",
        "    <tr>\n",
        "      <th>suma</th>\n",
        "      <td>  0</td>\n",
        "      <td> 15</td>\n",
        "      <td> 17</td>\n",
        "      <td> 20</td>\n",
        "      <td> 18</td>\n",
        "      <td> 13</td>\n",
        "      <td> 16</td>\n",
        "    </tr>\n",
        "    <tr>\n",
        "      <th>base</th>\n",
        "      <td>  0</td>\n",
        "      <td> 15</td>\n",
        "      <td> 17</td>\n",
        "      <td> 18</td>\n",
        "      <td> 13</td>\n",
        "      <td> 13</td>\n",
        "      <td> 16</td>\n",
        "    </tr>\n",
        "  </tbody>\n",
        "</table>\n",
        "</div>"
       ],
       "metadata": {},
       "output_type": "pyout",
       "prompt_number": 16,
       "text": [
        "                 Inicio  Argentina  Chile  Espa\u00f1a  Bolivia  Uruguay  Fin\n",
        "2004                  0          3      1       3        6        2    0\n",
        "2005                  0          5      4       1        1        5    0\n",
        "resta                 0          2      3      -2       -5        3    0\n",
        "barra iniciales      15          0      0       0        0        0   16\n",
        "positivo              0          2      3       0        0        3    0\n",
        "negativo              0          0      0       2        5        0    0\n",
        "suma                  0         15     17      20       18       13   16\n",
        "base                  0         15     17      18       13       13   16"
       ]
      }
     ],
     "prompt_number": 16
    },
    {
     "cell_type": "code",
     "collapsed": false,
     "input": [
      "fig = plt.gcf()\n",
      "fig.set_size_inches(6.6,4.4)\n",
      "Utilidad.index\n",
      "%pylab inline"
     ],
     "language": "python",
     "metadata": {},
     "outputs": [
      {
       "output_type": "stream",
       "stream": "stdout",
       "text": [
        "Populating the interactive namespace from numpy and matplotlib\n"
       ]
      }
     ],
     "prompt_number": 17
    },
    {
     "cell_type": "code",
     "collapsed": false,
     "input": [
      "Leyenda = ['2004','Arg','Chi','Esp','Bol','Uru','2005']\n",
      "EjeX = np.arange(len(Utilidad.columns))"
     ],
     "language": "python",
     "metadata": {},
     "outputs": [],
     "prompt_number": 18
    },
    {
     "cell_type": "code",
     "collapsed": false,
     "input": [
      "p1 = plt.bar(EjeX,Utilidad.loc['barra iniciales'], align='center', color='gray', edgecolor ='none', width=1)\n",
      "p2 = plt.bar(EjeX,Utilidad.loc['positivo'], align='center', color='blue', edgecolor ='none', bottom = Utilidad.loc['base'], width=1)\n",
      "p3 = plt.bar(EjeX,Utilidad.loc['negativo'], align='center', color='red', edgecolor ='none', bottom = Utilidad.loc['base'], width=1)\n",
      "width=0\n",
      "plt.xticks(EjeX+width  / 2, Leyenda)\n"
     ],
     "language": "python",
     "metadata": {},
     "outputs": [
      {
       "metadata": {},
       "output_type": "pyout",
       "prompt_number": 20,
       "text": [
        "([<matplotlib.axis.XTick at 0x111987950>,\n",
        "  <matplotlib.axis.XTick at 0x1119a4dd0>,\n",
        "  <matplotlib.axis.XTick at 0x1100178d0>,\n",
        "  <matplotlib.axis.XTick at 0x110037550>,\n",
        "  <matplotlib.axis.XTick at 0x110037c90>,\n",
        "  <matplotlib.axis.XTick at 0x110038410>,\n",
        "  <matplotlib.axis.XTick at 0x110038b50>],\n",
        " <a list of 7 Text xticklabel objects>)"
       ]
      },
      {
       "metadata": {},
       "output_type": "display_data",
       "png": "[encoded data removed]",
       "text": [
        "<matplotlib.figure.Figure at 0x10ef0ad90>"
       ]
      }
     ],
     "prompt_number": 20
    },
    {
     "cell_type": "code",
     "collapsed": false,
     "input": [],
     "language": "python",
     "metadata": {},
     "outputs": [],
     "prompt_number": 19
    },
    {
     "cell_type": "code",
     "collapsed": false,
     "input": [],
     "language": "python",
     "metadata": {},
     "outputs": [],
     "prompt_number": 19
    }
   ],
   "metadata": {}
  }
 ]
}