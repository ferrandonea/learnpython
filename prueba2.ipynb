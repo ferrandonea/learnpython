{
 "metadata": {
  "name": "",
  "signature": "sha256:b88e0d732b1d9f109b98380bd473a3fb77bbbc9e7e9c51838aa58a41823f4151"
 },
 "nbformat": 3,
 "nbformat_minor": 0,
 "worksheets": []
}