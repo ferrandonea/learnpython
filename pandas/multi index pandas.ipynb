{
 "metadata": {
  "name": "",
  "signature": "sha256:1f2d5dc3bfb78ea3fd724091cdcba3dabcd4db7f9e12c38938d46c2652c3c7ab"
 },
 "nbformat": 3,
 "nbformat_minor": 0,
 "worksheets": [
  {
   "cells": [
    {
     "cell_type": "code",
     "collapsed": false,
     "input": [
      "import pandas as pd\n",
      "import numpy as np\n",
      "arrays = [['bar', 'bar', 'baz', 'baz', 'foo', 'foo', 'qux', 'qux'],['one', 'two', 'one', 'two', 'one', 'two', 'one', 'two']]"
     ],
     "language": "python",
     "metadata": {},
     "outputs": [],
     "prompt_number": 1
    },
    {
     "cell_type": "code",
     "collapsed": false,
     "input": [
      "tuples = list(zip(*arrays))"
     ],
     "language": "python",
     "metadata": {},
     "outputs": [],
     "prompt_number": 2
    },
    {
     "cell_type": "code",
     "collapsed": false,
     "input": [
      "index = pd.MultiIndex.from_tuples(tuples, names=['first', 'second'])"
     ],
     "language": "python",
     "metadata": {},
     "outputs": [],
     "prompt_number": 3
    },
    {
     "cell_type": "code",
     "collapsed": false,
     "input": [
      "df = pd.DataFrame(np.random.randn(3, 8), index=['A', 'B', 'C'], columns=index)"
     ],
     "language": "python",
     "metadata": {},
     "outputs": [],
     "prompt_number": 4
    },
    {
     "cell_type": "code",
     "collapsed": false,
     "input": [
      "df"
     ],
     "language": "python",
     "metadata": {},
     "outputs": [
      {
       "html": [
        "<div style=\"max-height:1000px;max-width:1500px;overflow:auto;\">\n",
        "<table border=\"1\" class=\"dataframe\">\n",
        "  <thead>\n",
        "    <tr>\n",
        "      <th>first</th>\n",
        "      <th colspan=\"2\" halign=\"left\">bar</th>\n",
        "      <th colspan=\"2\" halign=\"left\">baz</th>\n",
        "      <th colspan=\"2\" halign=\"left\">foo</th>\n",
        "      <th colspan=\"2\" halign=\"left\">qux</th>\n",
        "    </tr>\n",
        "    <tr>\n",
        "      <th>second</th>\n",
        "      <th>one</th>\n",
        "      <th>two</th>\n",
        "      <th>one</th>\n",
        "      <th>two</th>\n",
        "      <th>one</th>\n",
        "      <th>two</th>\n",
        "      <th>one</th>\n",
        "      <th>two</th>\n",
        "    </tr>\n",
        "  </thead>\n",
        "  <tbody>\n",
        "    <tr>\n",
        "      <th>A</th>\n",
        "      <td>-0.555235</td>\n",
        "      <td>-0.282608</td>\n",
        "      <td>-0.395119</td>\n",
        "      <td> 0.433947</td>\n",
        "      <td>-0.278525</td>\n",
        "      <td>-0.191191</td>\n",
        "      <td> 0.543717</td>\n",
        "      <td>-0.324439</td>\n",
        "    </tr>\n",
        "    <tr>\n",
        "      <th>B</th>\n",
        "      <td> 1.662285</td>\n",
        "      <td> 1.661986</td>\n",
        "      <td>-0.840032</td>\n",
        "      <td>-2.428399</td>\n",
        "      <td> 1.253046</td>\n",
        "      <td>-1.243179</td>\n",
        "      <td> 0.205903</td>\n",
        "      <td>-1.567187</td>\n",
        "    </tr>\n",
        "    <tr>\n",
        "      <th>C</th>\n",
        "      <td>-1.036283</td>\n",
        "      <td>-0.223214</td>\n",
        "      <td> 0.500884</td>\n",
        "      <td> 0.573675</td>\n",
        "      <td>-0.854504</td>\n",
        "      <td>-0.249219</td>\n",
        "      <td> 1.294295</td>\n",
        "      <td>-0.559270</td>\n",
        "    </tr>\n",
        "  </tbody>\n",
        "</table>\n",
        "</div>"
       ],
       "metadata": {},
       "output_type": "pyout",
       "prompt_number": 5,
       "text": [
        "first        bar                 baz                 foo                 qux  \\\n",
        "second       one       two       one       two       one       two       one   \n",
        "A      -0.555235 -0.282608 -0.395119  0.433947 -0.278525 -0.191191  0.543717   \n",
        "B       1.662285  1.661986 -0.840032 -2.428399  1.253046 -1.243179  0.205903   \n",
        "C      -1.036283 -0.223214  0.500884  0.573675 -0.854504 -0.249219  1.294295   \n",
        "\n",
        "first             \n",
        "second       two  \n",
        "A      -0.324439  \n",
        "B      -1.567187  \n",
        "C      -0.559270  "
       ]
      }
     ],
     "prompt_number": 5
    },
    {
     "cell_type": "code",
     "collapsed": false,
     "input": [
      "df['bar']"
     ],
     "language": "python",
     "metadata": {},
     "outputs": [
      {
       "html": [
        "<div style=\"max-height:1000px;max-width:1500px;overflow:auto;\">\n",
        "<table border=\"1\" class=\"dataframe\">\n",
        "  <thead>\n",
        "    <tr style=\"text-align: right;\">\n",
        "      <th>second</th>\n",
        "      <th>one</th>\n",
        "      <th>two</th>\n",
        "    </tr>\n",
        "  </thead>\n",
        "  <tbody>\n",
        "    <tr>\n",
        "      <th>A</th>\n",
        "      <td>-0.555235</td>\n",
        "      <td>-0.282608</td>\n",
        "    </tr>\n",
        "    <tr>\n",
        "      <th>B</th>\n",
        "      <td> 1.662285</td>\n",
        "      <td> 1.661986</td>\n",
        "    </tr>\n",
        "    <tr>\n",
        "      <th>C</th>\n",
        "      <td>-1.036283</td>\n",
        "      <td>-0.223214</td>\n",
        "    </tr>\n",
        "  </tbody>\n",
        "</table>\n",
        "</div>"
       ],
       "metadata": {},
       "output_type": "pyout",
       "prompt_number": 6,
       "text": [
        "second       one       two\n",
        "A      -0.555235 -0.282608\n",
        "B       1.662285  1.661986\n",
        "C      -1.036283 -0.223214"
       ]
      }
     ],
     "prompt_number": 6
    },
    {
     "cell_type": "code",
     "collapsed": false,
     "input": [
      "df.T.xs('one', level='second').T"
     ],
     "language": "python",
     "metadata": {},
     "outputs": [
      {
       "html": [
        "<div style=\"max-height:1000px;max-width:1500px;overflow:auto;\">\n",
        "<table border=\"1\" class=\"dataframe\">\n",
        "  <thead>\n",
        "    <tr style=\"text-align: right;\">\n",
        "      <th>first</th>\n",
        "      <th>bar</th>\n",
        "      <th>baz</th>\n",
        "      <th>foo</th>\n",
        "      <th>qux</th>\n",
        "    </tr>\n",
        "  </thead>\n",
        "  <tbody>\n",
        "    <tr>\n",
        "      <th>A</th>\n",
        "      <td>-0.555235</td>\n",
        "      <td>-0.395119</td>\n",
        "      <td>-0.278525</td>\n",
        "      <td> 0.543717</td>\n",
        "    </tr>\n",
        "    <tr>\n",
        "      <th>B</th>\n",
        "      <td> 1.662285</td>\n",
        "      <td>-0.840032</td>\n",
        "      <td> 1.253046</td>\n",
        "      <td> 0.205903</td>\n",
        "    </tr>\n",
        "    <tr>\n",
        "      <th>C</th>\n",
        "      <td>-1.036283</td>\n",
        "      <td> 0.500884</td>\n",
        "      <td>-0.854504</td>\n",
        "      <td> 1.294295</td>\n",
        "    </tr>\n",
        "  </tbody>\n",
        "</table>\n",
        "</div>"
       ],
       "metadata": {},
       "output_type": "pyout",
       "prompt_number": 7,
       "text": [
        "first       bar       baz       foo       qux\n",
        "A     -0.555235 -0.395119 -0.278525  0.543717\n",
        "B      1.662285 -0.840032  1.253046  0.205903\n",
        "C     -1.036283  0.500884 -0.854504  1.294295"
       ]
      }
     ],
     "prompt_number": 7
    },
    {
     "cell_type": "code",
     "collapsed": false,
     "input": [
      "df.xs('one', level='second', axis=1)"
     ],
     "language": "python",
     "metadata": {},
     "outputs": [
      {
       "html": [
        "<div style=\"max-height:1000px;max-width:1500px;overflow:auto;\">\n",
        "<table border=\"1\" class=\"dataframe\">\n",
        "  <thead>\n",
        "    <tr style=\"text-align: right;\">\n",
        "      <th>first</th>\n",
        "      <th>bar</th>\n",
        "      <th>baz</th>\n",
        "      <th>foo</th>\n",
        "      <th>qux</th>\n",
        "    </tr>\n",
        "  </thead>\n",
        "  <tbody>\n",
        "    <tr>\n",
        "      <th>A</th>\n",
        "      <td>-0.555235</td>\n",
        "      <td>-0.395119</td>\n",
        "      <td>-0.278525</td>\n",
        "      <td> 0.543717</td>\n",
        "    </tr>\n",
        "    <tr>\n",
        "      <th>B</th>\n",
        "      <td> 1.662285</td>\n",
        "      <td>-0.840032</td>\n",
        "      <td> 1.253046</td>\n",
        "      <td> 0.205903</td>\n",
        "    </tr>\n",
        "    <tr>\n",
        "      <th>C</th>\n",
        "      <td>-1.036283</td>\n",
        "      <td> 0.500884</td>\n",
        "      <td>-0.854504</td>\n",
        "      <td> 1.294295</td>\n",
        "    </tr>\n",
        "  </tbody>\n",
        "</table>\n",
        "</div>"
       ],
       "metadata": {},
       "output_type": "pyout",
       "prompt_number": 8,
       "text": [
        "first       bar       baz       foo       qux\n",
        "A     -0.555235 -0.395119 -0.278525  0.543717\n",
        "B      1.662285 -0.840032  1.253046  0.205903\n",
        "C     -1.036283  0.500884 -0.854504  1.294295"
       ]
      }
     ],
     "prompt_number": 8
    },
    {
     "cell_type": "code",
     "collapsed": false,
     "input": [
      "df.loc[:,(slice(None),'one')]"
     ],
     "language": "python",
     "metadata": {},
     "outputs": [
      {
       "html": [
        "<div style=\"max-height:1000px;max-width:1500px;overflow:auto;\">\n",
        "<table border=\"1\" class=\"dataframe\">\n",
        "  <thead>\n",
        "    <tr>\n",
        "      <th>first</th>\n",
        "      <th>bar</th>\n",
        "      <th>baz</th>\n",
        "      <th>foo</th>\n",
        "      <th>qux</th>\n",
        "    </tr>\n",
        "    <tr>\n",
        "      <th>second</th>\n",
        "      <th>one</th>\n",
        "      <th>one</th>\n",
        "      <th>one</th>\n",
        "      <th>one</th>\n",
        "    </tr>\n",
        "  </thead>\n",
        "  <tbody>\n",
        "    <tr>\n",
        "      <th>A</th>\n",
        "      <td>-0.555235</td>\n",
        "      <td>-0.395119</td>\n",
        "      <td>-0.278525</td>\n",
        "      <td> 0.543717</td>\n",
        "    </tr>\n",
        "    <tr>\n",
        "      <th>B</th>\n",
        "      <td> 1.662285</td>\n",
        "      <td>-0.840032</td>\n",
        "      <td> 1.253046</td>\n",
        "      <td> 0.205903</td>\n",
        "    </tr>\n",
        "    <tr>\n",
        "      <th>C</th>\n",
        "      <td>-1.036283</td>\n",
        "      <td> 0.500884</td>\n",
        "      <td>-0.854504</td>\n",
        "      <td> 1.294295</td>\n",
        "    </tr>\n",
        "  </tbody>\n",
        "</table>\n",
        "</div>"
       ],
       "metadata": {},
       "output_type": "pyout",
       "prompt_number": 9,
       "text": [
        "first        bar       baz       foo       qux\n",
        "second       one       one       one       one\n",
        "A      -0.555235 -0.395119 -0.278525  0.543717\n",
        "B       1.662285 -0.840032  1.253046  0.205903\n",
        "C      -1.036283  0.500884 -0.854504  1.294295"
       ]
      }
     ],
     "prompt_number": 9
    },
    {
     "cell_type": "code",
     "collapsed": false,
     "input": [
      "dfNew= df.xs('one', level='second', axis=1)"
     ],
     "language": "python",
     "metadata": {},
     "outputs": [],
     "prompt_number": 10
    },
    {
     "cell_type": "code",
     "collapsed": false,
     "input": [
      "dfNew['bar']"
     ],
     "language": "python",
     "metadata": {},
     "outputs": [
      {
       "metadata": {},
       "output_type": "pyout",
       "prompt_number": 11,
       "text": [
        "A   -0.555235\n",
        "B    1.662285\n",
        "C   -1.036283\n",
        "Name: bar, dtype: float64"
       ]
      }
     ],
     "prompt_number": 11
    },
    {
     "cell_type": "code",
     "collapsed": false,
     "input": [
      "df.xs('one', level='second', axis=1, drop_level=True)"
     ],
     "language": "python",
     "metadata": {},
     "outputs": [
      {
       "html": [
        "<div style=\"max-height:1000px;max-width:1500px;overflow:auto;\">\n",
        "<table border=\"1\" class=\"dataframe\">\n",
        "  <thead>\n",
        "    <tr style=\"text-align: right;\">\n",
        "      <th>first</th>\n",
        "      <th>bar</th>\n",
        "      <th>baz</th>\n",
        "      <th>foo</th>\n",
        "      <th>qux</th>\n",
        "    </tr>\n",
        "  </thead>\n",
        "  <tbody>\n",
        "    <tr>\n",
        "      <th>A</th>\n",
        "      <td>-0.555235</td>\n",
        "      <td>-0.395119</td>\n",
        "      <td>-0.278525</td>\n",
        "      <td> 0.543717</td>\n",
        "    </tr>\n",
        "    <tr>\n",
        "      <th>B</th>\n",
        "      <td> 1.662285</td>\n",
        "      <td>-0.840032</td>\n",
        "      <td> 1.253046</td>\n",
        "      <td> 0.205903</td>\n",
        "    </tr>\n",
        "    <tr>\n",
        "      <th>C</th>\n",
        "      <td>-1.036283</td>\n",
        "      <td> 0.500884</td>\n",
        "      <td>-0.854504</td>\n",
        "      <td> 1.294295</td>\n",
        "    </tr>\n",
        "  </tbody>\n",
        "</table>\n",
        "</div>"
       ],
       "metadata": {},
       "output_type": "pyout",
       "prompt_number": 12,
       "text": [
        "first       bar       baz       foo       qux\n",
        "A     -0.555235 -0.395119 -0.278525  0.543717\n",
        "B      1.662285 -0.840032  1.253046  0.205903\n",
        "C     -1.036283  0.500884 -0.854504  1.294295"
       ]
      }
     ],
     "prompt_number": 12
    },
    {
     "cell_type": "code",
     "collapsed": false,
     "input": [
      "df.xs('one', level='second', axis=1, drop_level=True).loc['A']"
     ],
     "language": "python",
     "metadata": {},
     "outputs": [
      {
       "metadata": {},
       "output_type": "pyout",
       "prompt_number": 13,
       "text": [
        "first\n",
        "bar     -0.555235\n",
        "baz     -0.395119\n",
        "foo     -0.278525\n",
        "qux      0.543717\n",
        "Name: A, dtype: float64"
       ]
      }
     ],
     "prompt_number": 13
    },
    {
     "cell_type": "code",
     "collapsed": false,
     "input": [
      "df.xs('one', level='second', axis=1, drop_level=True)['bar']"
     ],
     "language": "python",
     "metadata": {},
     "outputs": [
      {
       "metadata": {},
       "output_type": "pyout",
       "prompt_number": 14,
       "text": [
        "A   -0.555235\n",
        "B    1.662285\n",
        "C   -1.036283\n",
        "Name: bar, dtype: float64"
       ]
      }
     ],
     "prompt_number": 14
    },
    {
     "cell_type": "code",
     "collapsed": false,
     "input": [
      "df.index.names"
     ],
     "language": "python",
     "metadata": {},
     "outputs": [
      {
       "metadata": {},
       "output_type": "pyout",
       "prompt_number": 15,
       "text": [
        "FrozenList([None])"
       ]
      }
     ],
     "prompt_number": 15
    },
    {
     "cell_type": "code",
     "collapsed": false,
     "input": [
      "df"
     ],
     "language": "python",
     "metadata": {},
     "outputs": [
      {
       "html": [
        "<div style=\"max-height:1000px;max-width:1500px;overflow:auto;\">\n",
        "<table border=\"1\" class=\"dataframe\">\n",
        "  <thead>\n",
        "    <tr>\n",
        "      <th>first</th>\n",
        "      <th colspan=\"2\" halign=\"left\">bar</th>\n",
        "      <th colspan=\"2\" halign=\"left\">baz</th>\n",
        "      <th colspan=\"2\" halign=\"left\">foo</th>\n",
        "      <th colspan=\"2\" halign=\"left\">qux</th>\n",
        "    </tr>\n",
        "    <tr>\n",
        "      <th>second</th>\n",
        "      <th>one</th>\n",
        "      <th>two</th>\n",
        "      <th>one</th>\n",
        "      <th>two</th>\n",
        "      <th>one</th>\n",
        "      <th>two</th>\n",
        "      <th>one</th>\n",
        "      <th>two</th>\n",
        "    </tr>\n",
        "  </thead>\n",
        "  <tbody>\n",
        "    <tr>\n",
        "      <th>A</th>\n",
        "      <td>-0.555235</td>\n",
        "      <td>-0.282608</td>\n",
        "      <td>-0.395119</td>\n",
        "      <td> 0.433947</td>\n",
        "      <td>-0.278525</td>\n",
        "      <td>-0.191191</td>\n",
        "      <td> 0.543717</td>\n",
        "      <td>-0.324439</td>\n",
        "    </tr>\n",
        "    <tr>\n",
        "      <th>B</th>\n",
        "      <td> 1.662285</td>\n",
        "      <td> 1.661986</td>\n",
        "      <td>-0.840032</td>\n",
        "      <td>-2.428399</td>\n",
        "      <td> 1.253046</td>\n",
        "      <td>-1.243179</td>\n",
        "      <td> 0.205903</td>\n",
        "      <td>-1.567187</td>\n",
        "    </tr>\n",
        "    <tr>\n",
        "      <th>C</th>\n",
        "      <td>-1.036283</td>\n",
        "      <td>-0.223214</td>\n",
        "      <td> 0.500884</td>\n",
        "      <td> 0.573675</td>\n",
        "      <td>-0.854504</td>\n",
        "      <td>-0.249219</td>\n",
        "      <td> 1.294295</td>\n",
        "      <td>-0.559270</td>\n",
        "    </tr>\n",
        "  </tbody>\n",
        "</table>\n",
        "</div>"
       ],
       "metadata": {},
       "output_type": "pyout",
       "prompt_number": 16,
       "text": [
        "first        bar                 baz                 foo                 qux  \\\n",
        "second       one       two       one       two       one       two       one   \n",
        "A      -0.555235 -0.282608 -0.395119  0.433947 -0.278525 -0.191191  0.543717   \n",
        "B       1.662285  1.661986 -0.840032 -2.428399  1.253046 -1.243179  0.205903   \n",
        "C      -1.036283 -0.223214  0.500884  0.573675 -0.854504 -0.249219  1.294295   \n",
        "\n",
        "first             \n",
        "second       two  \n",
        "A      -0.324439  \n",
        "B      -1.567187  \n",
        "C      -0.559270  "
       ]
      }
     ],
     "prompt_number": 16
    },
    {
     "cell_type": "code",
     "collapsed": false,
     "input": [
      "df['bar', 'one']"
     ],
     "language": "python",
     "metadata": {},
     "outputs": [
      {
       "metadata": {},
       "output_type": "pyout",
       "prompt_number": 17,
       "text": [
        "A   -0.555235\n",
        "B    1.662285\n",
        "C   -1.036283\n",
        "Name: (bar, one), dtype: float64"
       ]
      }
     ],
     "prompt_number": 17
    },
    {
     "cell_type": "code",
     "collapsed": false,
     "input": [
      "df['bar']['one']"
     ],
     "language": "python",
     "metadata": {},
     "outputs": [
      {
       "metadata": {},
       "output_type": "pyout",
       "prompt_number": 18,
       "text": [
        "A   -0.555235\n",
        "B    1.662285\n",
        "C   -1.036283\n",
        "Name: one, dtype: float64"
       ]
      }
     ],
     "prompt_number": 18
    },
    {
     "cell_type": "code",
     "collapsed": false,
     "input": [],
     "language": "python",
     "metadata": {},
     "outputs": [],
     "prompt_number": 18
    },
    {
     "cell_type": "code",
     "collapsed": false,
     "input": [
      "df = df.T"
     ],
     "language": "python",
     "metadata": {},
     "outputs": [],
     "prompt_number": 19
    },
    {
     "cell_type": "code",
     "collapsed": false,
     "input": [
      "df"
     ],
     "language": "python",
     "metadata": {},
     "outputs": [
      {
       "html": [
        "<div style=\"max-height:1000px;max-width:1500px;overflow:auto;\">\n",
        "<table border=\"1\" class=\"dataframe\">\n",
        "  <thead>\n",
        "    <tr style=\"text-align: right;\">\n",
        "      <th></th>\n",
        "      <th></th>\n",
        "      <th>A</th>\n",
        "      <th>B</th>\n",
        "      <th>C</th>\n",
        "    </tr>\n",
        "    <tr>\n",
        "      <th>first</th>\n",
        "      <th>second</th>\n",
        "      <th></th>\n",
        "      <th></th>\n",
        "      <th></th>\n",
        "    </tr>\n",
        "  </thead>\n",
        "  <tbody>\n",
        "    <tr>\n",
        "      <th rowspan=\"2\" valign=\"top\">bar</th>\n",
        "      <th>one</th>\n",
        "      <td>-0.555235</td>\n",
        "      <td> 1.662285</td>\n",
        "      <td>-1.036283</td>\n",
        "    </tr>\n",
        "    <tr>\n",
        "      <th>two</th>\n",
        "      <td>-0.282608</td>\n",
        "      <td> 1.661986</td>\n",
        "      <td>-0.223214</td>\n",
        "    </tr>\n",
        "    <tr>\n",
        "      <th rowspan=\"2\" valign=\"top\">baz</th>\n",
        "      <th>one</th>\n",
        "      <td>-0.395119</td>\n",
        "      <td>-0.840032</td>\n",
        "      <td> 0.500884</td>\n",
        "    </tr>\n",
        "    <tr>\n",
        "      <th>two</th>\n",
        "      <td> 0.433947</td>\n",
        "      <td>-2.428399</td>\n",
        "      <td> 0.573675</td>\n",
        "    </tr>\n",
        "    <tr>\n",
        "      <th rowspan=\"2\" valign=\"top\">foo</th>\n",
        "      <th>one</th>\n",
        "      <td>-0.278525</td>\n",
        "      <td> 1.253046</td>\n",
        "      <td>-0.854504</td>\n",
        "    </tr>\n",
        "    <tr>\n",
        "      <th>two</th>\n",
        "      <td>-0.191191</td>\n",
        "      <td>-1.243179</td>\n",
        "      <td>-0.249219</td>\n",
        "    </tr>\n",
        "    <tr>\n",
        "      <th rowspan=\"2\" valign=\"top\">qux</th>\n",
        "      <th>one</th>\n",
        "      <td> 0.543717</td>\n",
        "      <td> 0.205903</td>\n",
        "      <td> 1.294295</td>\n",
        "    </tr>\n",
        "    <tr>\n",
        "      <th>two</th>\n",
        "      <td>-0.324439</td>\n",
        "      <td>-1.567187</td>\n",
        "      <td>-0.559270</td>\n",
        "    </tr>\n",
        "  </tbody>\n",
        "</table>\n",
        "</div>"
       ],
       "metadata": {},
       "output_type": "pyout",
       "prompt_number": 20,
       "text": [
        "                     A         B         C\n",
        "first second                              \n",
        "bar   one    -0.555235  1.662285 -1.036283\n",
        "      two    -0.282608  1.661986 -0.223214\n",
        "baz   one    -0.395119 -0.840032  0.500884\n",
        "      two     0.433947 -2.428399  0.573675\n",
        "foo   one    -0.278525  1.253046 -0.854504\n",
        "      two    -0.191191 -1.243179 -0.249219\n",
        "qux   one     0.543717  0.205903  1.294295\n",
        "      two    -0.324439 -1.567187 -0.559270"
       ]
      }
     ],
     "prompt_number": 20
    },
    {
     "cell_type": "code",
     "collapsed": false,
     "input": [
      "df.loc['bar']"
     ],
     "language": "python",
     "metadata": {},
     "outputs": [
      {
       "html": [
        "<div style=\"max-height:1000px;max-width:1500px;overflow:auto;\">\n",
        "<table border=\"1\" class=\"dataframe\">\n",
        "  <thead>\n",
        "    <tr style=\"text-align: right;\">\n",
        "      <th></th>\n",
        "      <th>A</th>\n",
        "      <th>B</th>\n",
        "      <th>C</th>\n",
        "    </tr>\n",
        "    <tr>\n",
        "      <th>second</th>\n",
        "      <th></th>\n",
        "      <th></th>\n",
        "      <th></th>\n",
        "    </tr>\n",
        "  </thead>\n",
        "  <tbody>\n",
        "    <tr>\n",
        "      <th>one</th>\n",
        "      <td>-0.555235</td>\n",
        "      <td> 1.662285</td>\n",
        "      <td>-1.036283</td>\n",
        "    </tr>\n",
        "    <tr>\n",
        "      <th>two</th>\n",
        "      <td>-0.282608</td>\n",
        "      <td> 1.661986</td>\n",
        "      <td>-0.223214</td>\n",
        "    </tr>\n",
        "  </tbody>\n",
        "</table>\n",
        "</div>"
       ],
       "metadata": {},
       "output_type": "pyout",
       "prompt_number": 21,
       "text": [
        "               A         B         C\n",
        "second                              \n",
        "one    -0.555235  1.662285 -1.036283\n",
        "two    -0.282608  1.661986 -0.223214"
       ]
      }
     ],
     "prompt_number": 21
    },
    {
     "cell_type": "code",
     "collapsed": false,
     "input": [
      "df.loc['bar', 'two']"
     ],
     "language": "python",
     "metadata": {},
     "outputs": [
      {
       "metadata": {},
       "output_type": "pyout",
       "prompt_number": 22,
       "text": [
        "A   -0.282608\n",
        "B    1.661986\n",
        "C   -0.223214\n",
        "Name: (bar, two), dtype: float64"
       ]
      }
     ],
     "prompt_number": 22
    },
    {
     "cell_type": "code",
     "collapsed": false,
     "input": [
      "df.loc['baz':'foo']"
     ],
     "language": "python",
     "metadata": {},
     "outputs": [
      {
       "html": [
        "<div style=\"max-height:1000px;max-width:1500px;overflow:auto;\">\n",
        "<table border=\"1\" class=\"dataframe\">\n",
        "  <thead>\n",
        "    <tr style=\"text-align: right;\">\n",
        "      <th></th>\n",
        "      <th></th>\n",
        "      <th>A</th>\n",
        "      <th>B</th>\n",
        "      <th>C</th>\n",
        "    </tr>\n",
        "    <tr>\n",
        "      <th>first</th>\n",
        "      <th>second</th>\n",
        "      <th></th>\n",
        "      <th></th>\n",
        "      <th></th>\n",
        "    </tr>\n",
        "  </thead>\n",
        "  <tbody>\n",
        "    <tr>\n",
        "      <th rowspan=\"2\" valign=\"top\">baz</th>\n",
        "      <th>one</th>\n",
        "      <td>-0.395119</td>\n",
        "      <td>-0.840032</td>\n",
        "      <td> 0.500884</td>\n",
        "    </tr>\n",
        "    <tr>\n",
        "      <th>two</th>\n",
        "      <td> 0.433947</td>\n",
        "      <td>-2.428399</td>\n",
        "      <td> 0.573675</td>\n",
        "    </tr>\n",
        "    <tr>\n",
        "      <th rowspan=\"2\" valign=\"top\">foo</th>\n",
        "      <th>one</th>\n",
        "      <td>-0.278525</td>\n",
        "      <td> 1.253046</td>\n",
        "      <td>-0.854504</td>\n",
        "    </tr>\n",
        "    <tr>\n",
        "      <th>two</th>\n",
        "      <td>-0.191191</td>\n",
        "      <td>-1.243179</td>\n",
        "      <td>-0.249219</td>\n",
        "    </tr>\n",
        "  </tbody>\n",
        "</table>\n",
        "</div>"
       ],
       "metadata": {},
       "output_type": "pyout",
       "prompt_number": 23,
       "text": [
        "                     A         B         C\n",
        "first second                              \n",
        "baz   one    -0.395119 -0.840032  0.500884\n",
        "      two     0.433947 -2.428399  0.573675\n",
        "foo   one    -0.278525  1.253046 -0.854504\n",
        "      two    -0.191191 -1.243179 -0.249219"
       ]
      }
     ],
     "prompt_number": 23
    },
    {
     "cell_type": "code",
     "collapsed": false,
     "input": [
      "df.loc[('baz', 'two'):('qux', 'one')]"
     ],
     "language": "python",
     "metadata": {},
     "outputs": [
      {
       "html": [
        "<div style=\"max-height:1000px;max-width:1500px;overflow:auto;\">\n",
        "<table border=\"1\" class=\"dataframe\">\n",
        "  <thead>\n",
        "    <tr style=\"text-align: right;\">\n",
        "      <th></th>\n",
        "      <th></th>\n",
        "      <th>A</th>\n",
        "      <th>B</th>\n",
        "      <th>C</th>\n",
        "    </tr>\n",
        "    <tr>\n",
        "      <th>first</th>\n",
        "      <th>second</th>\n",
        "      <th></th>\n",
        "      <th></th>\n",
        "      <th></th>\n",
        "    </tr>\n",
        "  </thead>\n",
        "  <tbody>\n",
        "    <tr>\n",
        "      <th>baz</th>\n",
        "      <th>two</th>\n",
        "      <td> 0.433947</td>\n",
        "      <td>-2.428399</td>\n",
        "      <td> 0.573675</td>\n",
        "    </tr>\n",
        "    <tr>\n",
        "      <th rowspan=\"2\" valign=\"top\">foo</th>\n",
        "      <th>one</th>\n",
        "      <td>-0.278525</td>\n",
        "      <td> 1.253046</td>\n",
        "      <td>-0.854504</td>\n",
        "    </tr>\n",
        "    <tr>\n",
        "      <th>two</th>\n",
        "      <td>-0.191191</td>\n",
        "      <td>-1.243179</td>\n",
        "      <td>-0.249219</td>\n",
        "    </tr>\n",
        "    <tr>\n",
        "      <th>qux</th>\n",
        "      <th>one</th>\n",
        "      <td> 0.543717</td>\n",
        "      <td> 0.205903</td>\n",
        "      <td> 1.294295</td>\n",
        "    </tr>\n",
        "  </tbody>\n",
        "</table>\n",
        "</div>"
       ],
       "metadata": {},
       "output_type": "pyout",
       "prompt_number": 24,
       "text": [
        "                     A         B         C\n",
        "first second                              \n",
        "baz   two     0.433947 -2.428399  0.573675\n",
        "foo   one    -0.278525  1.253046 -0.854504\n",
        "      two    -0.191191 -1.243179 -0.249219\n",
        "qux   one     0.543717  0.205903  1.294295"
       ]
      }
     ],
     "prompt_number": 24
    },
    {
     "cell_type": "code",
     "collapsed": false,
     "input": [
      "df.ix[[('bar', 'two'), ('qux', 'one')]]"
     ],
     "language": "python",
     "metadata": {},
     "outputs": [
      {
       "html": [
        "<div style=\"max-height:1000px;max-width:1500px;overflow:auto;\">\n",
        "<table border=\"1\" class=\"dataframe\">\n",
        "  <thead>\n",
        "    <tr style=\"text-align: right;\">\n",
        "      <th></th>\n",
        "      <th></th>\n",
        "      <th>A</th>\n",
        "      <th>B</th>\n",
        "      <th>C</th>\n",
        "    </tr>\n",
        "    <tr>\n",
        "      <th>first</th>\n",
        "      <th>second</th>\n",
        "      <th></th>\n",
        "      <th></th>\n",
        "      <th></th>\n",
        "    </tr>\n",
        "  </thead>\n",
        "  <tbody>\n",
        "    <tr>\n",
        "      <th>bar</th>\n",
        "      <th>two</th>\n",
        "      <td>-0.282608</td>\n",
        "      <td> 1.661986</td>\n",
        "      <td>-0.223214</td>\n",
        "    </tr>\n",
        "    <tr>\n",
        "      <th>qux</th>\n",
        "      <th>one</th>\n",
        "      <td> 0.543717</td>\n",
        "      <td> 0.205903</td>\n",
        "      <td> 1.294295</td>\n",
        "    </tr>\n",
        "  </tbody>\n",
        "</table>\n",
        "</div>"
       ],
       "metadata": {},
       "output_type": "pyout",
       "prompt_number": 25,
       "text": [
        "                     A         B         C\n",
        "first second                              \n",
        "bar   two    -0.282608  1.661986 -0.223214\n",
        "qux   one     0.543717  0.205903  1.294295"
       ]
      }
     ],
     "prompt_number": 25
    },
    {
     "cell_type": "code",
     "collapsed": false,
     "input": [
      "df.xs('one', level='second')"
     ],
     "language": "python",
     "metadata": {},
     "outputs": [
      {
       "html": [
        "<div style=\"max-height:1000px;max-width:1500px;overflow:auto;\">\n",
        "<table border=\"1\" class=\"dataframe\">\n",
        "  <thead>\n",
        "    <tr style=\"text-align: right;\">\n",
        "      <th></th>\n",
        "      <th>A</th>\n",
        "      <th>B</th>\n",
        "      <th>C</th>\n",
        "    </tr>\n",
        "    <tr>\n",
        "      <th>first</th>\n",
        "      <th></th>\n",
        "      <th></th>\n",
        "      <th></th>\n",
        "    </tr>\n",
        "  </thead>\n",
        "  <tbody>\n",
        "    <tr>\n",
        "      <th>bar</th>\n",
        "      <td>-0.555235</td>\n",
        "      <td> 1.662285</td>\n",
        "      <td>-1.036283</td>\n",
        "    </tr>\n",
        "    <tr>\n",
        "      <th>baz</th>\n",
        "      <td>-0.395119</td>\n",
        "      <td>-0.840032</td>\n",
        "      <td> 0.500884</td>\n",
        "    </tr>\n",
        "    <tr>\n",
        "      <th>foo</th>\n",
        "      <td>-0.278525</td>\n",
        "      <td> 1.253046</td>\n",
        "      <td>-0.854504</td>\n",
        "    </tr>\n",
        "    <tr>\n",
        "      <th>qux</th>\n",
        "      <td> 0.543717</td>\n",
        "      <td> 0.205903</td>\n",
        "      <td> 1.294295</td>\n",
        "    </tr>\n",
        "  </tbody>\n",
        "</table>\n",
        "</div>"
       ],
       "metadata": {},
       "output_type": "pyout",
       "prompt_number": 26,
       "text": [
        "              A         B         C\n",
        "first                              \n",
        "bar   -0.555235  1.662285 -1.036283\n",
        "baz   -0.395119 -0.840032  0.500884\n",
        "foo   -0.278525  1.253046 -0.854504\n",
        "qux    0.543717  0.205903  1.294295"
       ]
      }
     ],
     "prompt_number": 26
    },
    {
     "cell_type": "code",
     "collapsed": false,
     "input": [
      "df.xs('two', level='second')"
     ],
     "language": "python",
     "metadata": {},
     "outputs": [
      {
       "html": [
        "<div style=\"max-height:1000px;max-width:1500px;overflow:auto;\">\n",
        "<table border=\"1\" class=\"dataframe\">\n",
        "  <thead>\n",
        "    <tr style=\"text-align: right;\">\n",
        "      <th></th>\n",
        "      <th>A</th>\n",
        "      <th>B</th>\n",
        "      <th>C</th>\n",
        "    </tr>\n",
        "    <tr>\n",
        "      <th>first</th>\n",
        "      <th></th>\n",
        "      <th></th>\n",
        "      <th></th>\n",
        "    </tr>\n",
        "  </thead>\n",
        "  <tbody>\n",
        "    <tr>\n",
        "      <th>bar</th>\n",
        "      <td>-0.282608</td>\n",
        "      <td> 1.661986</td>\n",
        "      <td>-0.223214</td>\n",
        "    </tr>\n",
        "    <tr>\n",
        "      <th>baz</th>\n",
        "      <td> 0.433947</td>\n",
        "      <td>-2.428399</td>\n",
        "      <td> 0.573675</td>\n",
        "    </tr>\n",
        "    <tr>\n",
        "      <th>foo</th>\n",
        "      <td>-0.191191</td>\n",
        "      <td>-1.243179</td>\n",
        "      <td>-0.249219</td>\n",
        "    </tr>\n",
        "    <tr>\n",
        "      <th>qux</th>\n",
        "      <td>-0.324439</td>\n",
        "      <td>-1.567187</td>\n",
        "      <td>-0.559270</td>\n",
        "    </tr>\n",
        "  </tbody>\n",
        "</table>\n",
        "</div>"
       ],
       "metadata": {},
       "output_type": "pyout",
       "prompt_number": 27,
       "text": [
        "              A         B         C\n",
        "first                              \n",
        "bar   -0.282608  1.661986 -0.223214\n",
        "baz    0.433947 -2.428399  0.573675\n",
        "foo   -0.191191 -1.243179 -0.249219\n",
        "qux   -0.324439 -1.567187 -0.559270"
       ]
      }
     ],
     "prompt_number": 27
    },
    {
     "cell_type": "code",
     "collapsed": false,
     "input": [],
     "language": "python",
     "metadata": {},
     "outputs": [],
     "prompt_number": 27
    }
   ],
   "metadata": {}
  }
 ]
}